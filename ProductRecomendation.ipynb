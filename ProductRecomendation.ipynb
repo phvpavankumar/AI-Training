{
  "nbformat": 4,
  "nbformat_minor": 0,
  "metadata": {
    "colab": {
      "provenance": [],
      "authorship_tag": "ABX9TyNvI56UlOKDwGZKRtmevG/i",
      "include_colab_link": true
    },
    "kernelspec": {
      "name": "python3",
      "display_name": "Python 3"
    },
    "language_info": {
      "name": "python"
    }
  },
  "cells": [
    {
      "cell_type": "markdown",
      "metadata": {
        "id": "view-in-github",
        "colab_type": "text"
      },
      "source": [
        "<a href=\"https://colab.research.google.com/github/phvpavankumar/AI-Training/blob/main/ProductRecomendation.ipynb\" target=\"_parent\"><img src=\"https://colab.research.google.com/assets/colab-badge.svg\" alt=\"Open In Colab\"/></a>"
      ]
    },
    {
      "cell_type": "markdown",
      "source": [
        "# Product Recommendation System Using Machine Learning\n"
      ],
      "metadata": {
        "id": "suO-4pUHRVOZ"
      }
    },
    {
      "cell_type": "markdown",
      "source": [
        "## Step 1: Data Collection"
      ],
      "metadata": {
        "id": "u7uX9QvURO6v"
      }
    },
    {
      "cell_type": "code",
      "source": [
        "import pandas as pd\n",
        "from sklearn.model_selection import train_test_split\n",
        "from sklearn.ensemble import RandomForestRegressor\n",
        "from sklearn.preprocessing import LabelEncoder\n",
        "from sklearn.feature_extraction.text import TfidfVectorizer\n",
        "from sklearn.pipeline import make_pipeline\n",
        "from sklearn.compose import ColumnTransformer\n",
        "from sklearn.metrics import mean_squared_error"
      ],
      "metadata": {
        "id": "4CLAAZceSMgB"
      },
      "execution_count": 1,
      "outputs": []
    },
    {
      "cell_type": "code",
      "source": [
        "# Sample data\n",
        "data = {\n",
        "    'user_id': ['U1', 'U2', 'U3', 'U4'],\n",
        "    'paddle_id': ['P001', 'P002', 'P003', 'P001'],\n",
        "    'rating': [5, 4, 5, 3],\n",
        "    'review': [\n",
        "        \"Excellent control and lightweight!\",\n",
        "        \"Powerful but heavy\",\n",
        "        \"Best for beginners, light and easy to handle\",\n",
        "        \"Good but not for professional play\"\n",
        "    ],\n",
        "    'weight': [7.8, 9.0, 6.5, 8.2],  # in ounces\n",
        "    'material': ['carbon fiber', 'aluminum', 'graphite', 'composite']\n",
        "}\n",
        "\n",
        "df = pd.DataFrame(data)"
      ],
      "metadata": {
        "id": "PiNiRmu2ROrO"
      },
      "execution_count": 2,
      "outputs": []
    },
    {
      "cell_type": "markdown",
      "source": [
        "## Step 2: Preprocessing"
      ],
      "metadata": {
        "id": "FX8tDaikRfji"
      }
    },
    {
      "cell_type": "code",
      "source": [
        "# Preprocessing\n",
        "label_encoder = LabelEncoder()\n",
        "df['material_encoded'] = label_encoder.fit_transform(df['material'])\n",
        "\n",
        "# Feature extraction from reviews\n",
        "tfidf_vectorizer = TfidfVectorizer(stop_words='english')\n",
        "tfidf_features = tfidf_vectorizer.fit_transform(df['review'])\n",
        "\n",
        "# Combine all features (excluding original categorical and textual data)\n",
        "X = pd.DataFrame(tfidf_features.toarray(), columns=tfidf_vectorizer.get_feature_names_out())\n",
        "X['weight'] = df['weight']\n",
        "X['material_encoded'] = df['material_encoded']\n",
        "\n",
        "y = df['rating']\n",
        "\n",
        "# Split data\n",
        "X_train, X_test, y_train, y_test = train_test_split(X, y, test_size=0.2, random_state=42)\n"
      ],
      "metadata": {
        "id": "VNUpmLfHRezf"
      },
      "execution_count": 3,
      "outputs": []
    },
    {
      "cell_type": "markdown",
      "source": [
        "## Step 3: Machine Learning Model"
      ],
      "metadata": {
        "id": "qILd7kP_Rkgg"
      }
    },
    {
      "cell_type": "code",
      "source": [
        "# Train a model\n",
        "model = RandomForestRegressor(n_estimators=100)\n",
        "model.fit(X_train, y_train)"
      ],
      "metadata": {
        "colab": {
          "base_uri": "https://localhost:8080/",
          "height": 74
        },
        "id": "Retd9nrXROnv",
        "outputId": "824d6cc9-c03b-4681-9f92-c9b48f2210c7"
      },
      "execution_count": 4,
      "outputs": [
        {
          "output_type": "execute_result",
          "data": {
            "text/plain": [
              "RandomForestRegressor()"
            ],
            "text/html": [
              "<style>#sk-container-id-1 {color: black;background-color: white;}#sk-container-id-1 pre{padding: 0;}#sk-container-id-1 div.sk-toggleable {background-color: white;}#sk-container-id-1 label.sk-toggleable__label {cursor: pointer;display: block;width: 100%;margin-bottom: 0;padding: 0.3em;box-sizing: border-box;text-align: center;}#sk-container-id-1 label.sk-toggleable__label-arrow:before {content: \"▸\";float: left;margin-right: 0.25em;color: #696969;}#sk-container-id-1 label.sk-toggleable__label-arrow:hover:before {color: black;}#sk-container-id-1 div.sk-estimator:hover label.sk-toggleable__label-arrow:before {color: black;}#sk-container-id-1 div.sk-toggleable__content {max-height: 0;max-width: 0;overflow: hidden;text-align: left;background-color: #f0f8ff;}#sk-container-id-1 div.sk-toggleable__content pre {margin: 0.2em;color: black;border-radius: 0.25em;background-color: #f0f8ff;}#sk-container-id-1 input.sk-toggleable__control:checked~div.sk-toggleable__content {max-height: 200px;max-width: 100%;overflow: auto;}#sk-container-id-1 input.sk-toggleable__control:checked~label.sk-toggleable__label-arrow:before {content: \"▾\";}#sk-container-id-1 div.sk-estimator input.sk-toggleable__control:checked~label.sk-toggleable__label {background-color: #d4ebff;}#sk-container-id-1 div.sk-label input.sk-toggleable__control:checked~label.sk-toggleable__label {background-color: #d4ebff;}#sk-container-id-1 input.sk-hidden--visually {border: 0;clip: rect(1px 1px 1px 1px);clip: rect(1px, 1px, 1px, 1px);height: 1px;margin: -1px;overflow: hidden;padding: 0;position: absolute;width: 1px;}#sk-container-id-1 div.sk-estimator {font-family: monospace;background-color: #f0f8ff;border: 1px dotted black;border-radius: 0.25em;box-sizing: border-box;margin-bottom: 0.5em;}#sk-container-id-1 div.sk-estimator:hover {background-color: #d4ebff;}#sk-container-id-1 div.sk-parallel-item::after {content: \"\";width: 100%;border-bottom: 1px solid gray;flex-grow: 1;}#sk-container-id-1 div.sk-label:hover label.sk-toggleable__label {background-color: #d4ebff;}#sk-container-id-1 div.sk-serial::before {content: \"\";position: absolute;border-left: 1px solid gray;box-sizing: border-box;top: 0;bottom: 0;left: 50%;z-index: 0;}#sk-container-id-1 div.sk-serial {display: flex;flex-direction: column;align-items: center;background-color: white;padding-right: 0.2em;padding-left: 0.2em;position: relative;}#sk-container-id-1 div.sk-item {position: relative;z-index: 1;}#sk-container-id-1 div.sk-parallel {display: flex;align-items: stretch;justify-content: center;background-color: white;position: relative;}#sk-container-id-1 div.sk-item::before, #sk-container-id-1 div.sk-parallel-item::before {content: \"\";position: absolute;border-left: 1px solid gray;box-sizing: border-box;top: 0;bottom: 0;left: 50%;z-index: -1;}#sk-container-id-1 div.sk-parallel-item {display: flex;flex-direction: column;z-index: 1;position: relative;background-color: white;}#sk-container-id-1 div.sk-parallel-item:first-child::after {align-self: flex-end;width: 50%;}#sk-container-id-1 div.sk-parallel-item:last-child::after {align-self: flex-start;width: 50%;}#sk-container-id-1 div.sk-parallel-item:only-child::after {width: 0;}#sk-container-id-1 div.sk-dashed-wrapped {border: 1px dashed gray;margin: 0 0.4em 0.5em 0.4em;box-sizing: border-box;padding-bottom: 0.4em;background-color: white;}#sk-container-id-1 div.sk-label label {font-family: monospace;font-weight: bold;display: inline-block;line-height: 1.2em;}#sk-container-id-1 div.sk-label-container {text-align: center;}#sk-container-id-1 div.sk-container {/* jupyter's `normalize.less` sets `[hidden] { display: none; }` but bootstrap.min.css set `[hidden] { display: none !important; }` so we also need the `!important` here to be able to override the default hidden behavior on the sphinx rendered scikit-learn.org. See: https://github.com/scikit-learn/scikit-learn/issues/21755 */display: inline-block !important;position: relative;}#sk-container-id-1 div.sk-text-repr-fallback {display: none;}</style><div id=\"sk-container-id-1\" class=\"sk-top-container\"><div class=\"sk-text-repr-fallback\"><pre>RandomForestRegressor()</pre><b>In a Jupyter environment, please rerun this cell to show the HTML representation or trust the notebook. <br />On GitHub, the HTML representation is unable to render, please try loading this page with nbviewer.org.</b></div><div class=\"sk-container\" hidden><div class=\"sk-item\"><div class=\"sk-estimator sk-toggleable\"><input class=\"sk-toggleable__control sk-hidden--visually\" id=\"sk-estimator-id-1\" type=\"checkbox\" checked><label for=\"sk-estimator-id-1\" class=\"sk-toggleable__label sk-toggleable__label-arrow\">RandomForestRegressor</label><div class=\"sk-toggleable__content\"><pre>RandomForestRegressor()</pre></div></div></div></div></div>"
            ]
          },
          "metadata": {},
          "execution_count": 4
        }
      ]
    },
    {
      "cell_type": "markdown",
      "source": [
        "## Make a prediction"
      ],
      "metadata": {
        "id": "keQLXuAbSu3P"
      }
    },
    {
      "cell_type": "code",
      "source": [
        "user_review = \"I need a paddle that's good for professional games but light\"\n",
        "user_features = {'weight': 8.0, 'material': 'graphite'}"
      ],
      "metadata": {
        "id": "eUEd7fB9ROlb"
      },
      "execution_count": 5,
      "outputs": []
    },
    {
      "cell_type": "markdown",
      "source": [
        "## Transform user review and encode material"
      ],
      "metadata": {
        "id": "Zm1pGcd7Sw3W"
      }
    },
    {
      "cell_type": "code",
      "source": [
        "user_review_transformed = tfidf_vectorizer.transform([user_review])\n",
        "user_material_encoded = label_encoder.transform([user_features['material']])"
      ],
      "metadata": {
        "id": "lgrVF6ajROjH"
      },
      "execution_count": 6,
      "outputs": []
    },
    {
      "cell_type": "markdown",
      "source": [
        "## Combine into a single feature set"
      ],
      "metadata": {
        "id": "niwe0lDIS0Yh"
      }
    },
    {
      "cell_type": "code",
      "source": [
        "user_X = pd.DataFrame(user_review_transformed.toarray(), columns=tfidf_vectorizer.get_feature_names_out())\n",
        "user_X['weight'] = user_features['weight']\n",
        "user_X['material_encoded'] = user_material_encoded"
      ],
      "metadata": {
        "id": "Iz6VpetpROgY"
      },
      "execution_count": 7,
      "outputs": []
    },
    {
      "cell_type": "markdown",
      "source": [
        "## Predict rating"
      ],
      "metadata": {
        "id": "L0lVm2FwS7CH"
      }
    },
    {
      "cell_type": "code",
      "source": [
        "predicted_rating = model.predict(user_X)\n",
        "predicted_rating"
      ],
      "metadata": {
        "colab": {
          "base_uri": "https://localhost:8080/",
          "height": 0
        },
        "id": "w7FEI3JJROd_",
        "outputId": "2b887a03-3ffa-4c0d-dc84-59f222546987"
      },
      "execution_count": 8,
      "outputs": [
        {
          "output_type": "execute_result",
          "data": {
            "text/plain": [
              "array([4.2])"
            ]
          },
          "metadata": {},
          "execution_count": 8
        }
      ]
    },
    {
      "cell_type": "markdown",
      "source": [
        "# Using Traditional Cosine Similarity Technique"
      ],
      "metadata": {
        "id": "ZHzO_Y5DQ_uX"
      }
    },
    {
      "cell_type": "markdown",
      "source": [
        "## Step 1: Data Preparation"
      ],
      "metadata": {
        "id": "7L9WPqYIP9Iq"
      }
    },
    {
      "cell_type": "code",
      "execution_count": 9,
      "metadata": {
        "id": "uiloW0jgP5Ff"
      },
      "outputs": [],
      "source": [
        "import pandas as pd\n",
        "\n",
        "# Sample data\n",
        "data = {\n",
        "    'paddle_id': ['P001', 'P002', 'P003', 'P004'],\n",
        "    'name': ['Zephyr Strike', 'Alpha Power', 'Beta Lite', 'Gamma Pro'],\n",
        "    'reviews': [\n",
        "        \"Love the control and lightweight feel, great for quick games!\",\n",
        "        \"Powerful paddle, excellent for smashes, a bit heavy but manageable.\",\n",
        "        \"Very light and easy to handle, lacks a bit in power\",\n",
        "        \"Great all-around paddle, good for both beginners and advanced players\"\n",
        "    ]\n",
        "}\n",
        "\n",
        "df = pd.DataFrame(data)\n"
      ]
    },
    {
      "cell_type": "markdown",
      "source": [
        "## Step 2: Preprocessing and Feature Extraction"
      ],
      "metadata": {
        "id": "OkRWTe6IQBB6"
      }
    },
    {
      "cell_type": "code",
      "source": [
        "from sklearn.feature_extraction.text import TfidfVectorizer\n",
        "\n",
        "# Text preprocessing and TF-IDF feature extraction\n",
        "vectorizer = TfidfVectorizer(stop_words='english')\n",
        "tfidf_matrix = vectorizer.fit_transform(df['reviews'])\n"
      ],
      "metadata": {
        "id": "ZJ5NmGJ_P7WS"
      },
      "execution_count": 10,
      "outputs": []
    },
    {
      "cell_type": "markdown",
      "source": [
        "# Step 3: Recommendation Engine"
      ],
      "metadata": {
        "id": "2Bu0MS-aQLUw"
      }
    },
    {
      "cell_type": "code",
      "source": [
        "from sklearn.metrics.pairwise import cosine_similarity\n",
        "\n",
        "# Function to recommend paddles based on user input\n",
        "def recommend_paddle(user_input):\n",
        "    # Transform user input using the same vectorizer\n",
        "    user_vec = vectorizer.transform([user_input])\n",
        "\n",
        "    # Compute similarity scores\n",
        "    sim_scores = cosine_similarity(user_vec, tfidf_matrix)\n",
        "\n",
        "    # Get the top paddle recommendations\n",
        "    top_idx = sim_scores.argsort()[0][-3:][::-1]\n",
        "    recommendations = df.iloc[top_idx]\n",
        "\n",
        "    return recommendations[['name', 'reviews']]"
      ],
      "metadata": {
        "id": "tAIh_4fRQFjz"
      },
      "execution_count": 11,
      "outputs": []
    },
    {
      "cell_type": "code",
      "source": [
        "# Example usage\n",
        "user_input = \"I need a paddle that is great for control and feels light\"\n",
        "recommendations = recommend_paddle(user_input)\n",
        "print(recommendations)\n"
      ],
      "metadata": {
        "colab": {
          "base_uri": "https://localhost:8080/",
          "height": 0
        },
        "id": "NBa8qNj_QOr4",
        "outputId": "919e54d5-bb07-4bab-d190-af499f0732df"
      },
      "execution_count": 12,
      "outputs": [
        {
          "output_type": "stream",
          "name": "stdout",
          "text": [
            "            name                                            reviews\n",
            "0  Zephyr Strike  Love the control and lightweight feel, great f...\n",
            "3      Gamma Pro  Great all-around paddle, good for both beginne...\n",
            "2      Beta Lite  Very light and easy to handle, lacks a bit in ...\n"
          ]
        }
      ]
    },
    {
      "cell_type": "code",
      "source": [],
      "metadata": {
        "id": "RwgTm4ktQO_L"
      },
      "execution_count": 12,
      "outputs": []
    }
  ]
}